{
 "cells": [
  {
   "cell_type": "code",
   "execution_count": 10,
   "metadata": {},
   "outputs": [
    {
     "name": "stdout",
     "output_type": "stream",
     "text": [
      "english\n",
      "OCR\n",
      "Identify and interpret explicit and implicit information and ideas. Select and synthesise evidence from different texts.\n",
      "Explain, comment on and analyse how writers use language and structure to achieve effects and influence readers, using relevant subject terminology to support their views.\n",
      "Compare writers’ ideas and perspectives, as well as how these are conveyed, across two or more texts.\n",
      "Evaluate texts critically and support this with appropriate textual references.\n",
      "Communicate clearly, effectively and imaginatively, selecting and adapting tone, style and register for different forms, purposes and audiences. <br> Organise information and ideas, using structural and grammatical features to support coherence and cohesion of texts.\n",
      "Candidates must use a range of vocabulary and sentence structures for clarity, purpose and effect, with accurate spelling and punctuation.\n",
      "Eduqas\n",
      "Identify and interpret explicit and implicit information and ideas <br> Select and synthesise evidence from different texts\n",
      "Explain, comment on analyse how writers use language and structure to achieve effects and influence readers, using relevant subject terminology to support their views\n",
      "Compare writers' ideas and perspectives, as well as how these are conveyed, across two or more texts\n",
      "Evaluate texts critically and support this with appropriate textual references\n",
      "comp_sci\n",
      "OCR\n",
      "Identify and interpret explicit and implicit information and ideas. Select and synthesise evidence from different texts.\n",
      "Explain, comment on and analyse how writers use language and structure to achieve effects and influence readers, using relevant subject terminology to support their views.\n",
      "Compare writers’ ideas and perspectives, as well as how these are conveyed, across two or more texts.\n",
      "Evaluate texts critically and support this with appropriate textual references.\n",
      "Communicate clearly, effectively and imaginatively, selecting and adapting tone, style and register for different forms, purposes and audiences. <br> Organise information and ideas, using structural and grammatical features to support coherence and cohesion of texts.\n",
      "Candidates must use a range of vocabulary and sentence structures for clarity, purpose and effect, with accurate spelling and punctuation.\n"
     ]
    }
   ],
   "source": [
    "import json\n",
    " \n",
    "# Opening JSON file\n",
    "f = open('config.json')\n",
    " \n",
    "# returns JSON object as\n",
    "# a dictionary\n",
    "data = json.load(f)\n",
    " \n",
    "# Iterating through the json\n",
    "# list\n",
    "\n",
    "for subject in data:\n",
    "    print(subject)\n",
    "    for examboards in data[subject]:\n",
    "        print(examboards)\n",
    "        for AO in data[subject][examboards]:\n",
    "            print(data[subject][examboards][AO])\n",
    "    \n",
    " \n",
    "# Closing file\n",
    "f.close()"
   ]
  },
  {
   "cell_type": "code",
   "execution_count": 11,
   "metadata": {},
   "outputs": [],
   "source": [
    "exam_b = \"Eduqas\"\n",
    "exam_subj = \"english\""
   ]
  },
  {
   "cell_type": "code",
   "execution_count": 18,
   "metadata": {},
   "outputs": [
    {
     "name": "stdout",
     "output_type": "stream",
     "text": [
      "english\n",
      "Eduqas\n",
      "AO1: Identify and interpret explicit and implicit information and ideas <br> Select and synthesise evidence from different texts\n",
      "AO2: Explain, comment on analyse how writers use language and structure to achieve effects and influence readers, using relevant subject terminology to support their views\n",
      "AO3: Compare writers' ideas and perspectives, as well as how these are conveyed, across two or more texts\n",
      "AO4: Evaluate texts critically and support this with appropriate textual references\n"
     ]
    }
   ],
   "source": [
    "f = open('config.json')\n",
    " \n",
    "# returns JSON object as\n",
    "# a dictionary\n",
    "data = json.load(f)\n",
    " \n",
    "# Iterating through the json\n",
    "# list\n",
    "exam_details = {}\n",
    "\n",
    "for subject in data:\n",
    "    if subject == exam_subj:\n",
    "        print(subject)\n",
    "        for examboards in data[subject]:\n",
    "            if examboards == exam_b:\n",
    "                print(examboards)\n",
    "                for AO in data[subject][examboards]:\n",
    "                    print(f\"{AO}: {data[subject][examboards][AO]}\")\n",
    "                    exam_details[AO] = data[subject][examboards][AO]\n",
    "\n",
    "# Closing file\n",
    "f.close()"
   ]
  },
  {
   "cell_type": "code",
   "execution_count": 19,
   "metadata": {},
   "outputs": [
    {
     "name": "stdout",
     "output_type": "stream",
     "text": [
      "{'AO1': 'Identify and interpret explicit and implicit information and ideas <br> Select and synthesise evidence from different texts', 'AO2': 'Explain, comment on analyse how writers use language and structure to achieve effects and influence readers, using relevant subject terminology to support their views', 'AO3': \"Compare writers' ideas and perspectives, as well as how these are conveyed, across two or more texts\", 'AO4': 'Evaluate texts critically and support this with appropriate textual references'}\n"
     ]
    }
   ],
   "source": [
    "print(exam_details)"
   ]
  },
  {
   "cell_type": "code",
   "execution_count": null,
   "metadata": {},
   "outputs": [],
   "source": []
  }
 ],
 "metadata": {
  "interpreter": {
   "hash": "4207a7533e5d62852ce603bf9d6167d5359178d8ee5ae6432d5694c300881fe4"
  },
  "kernelspec": {
   "display_name": "Python 3.8.5 64-bit ('base': conda)",
   "language": "python",
   "name": "python3"
  },
  "language_info": {
   "codemirror_mode": {
    "name": "ipython",
    "version": 3
   },
   "file_extension": ".py",
   "mimetype": "text/x-python",
   "name": "python",
   "nbconvert_exporter": "python",
   "pygments_lexer": "ipython3",
   "version": "3.8.5"
  },
  "orig_nbformat": 4
 },
 "nbformat": 4,
 "nbformat_minor": 2
}
